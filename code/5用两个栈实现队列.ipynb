{
 "cells": [
  {
   "cell_type": "markdown",
   "metadata": {},
   "source": [
    "用两个栈来实现一个队列，完成队列的Push和Pop操作。 队列中的元素为int类型。"
   ]
  },
  {
   "cell_type": "code",
   "execution_count": 2,
   "metadata": {},
   "outputs": [],
   "source": [
    "class Solution:\n",
    "    def __init__(self):\n",
    "        self.stack1=[]\n",
    "        self.stack2=[]\n",
    "    def push(self, node):\n",
    "        # write code here\n",
    "        self.stack1.append(node)\n",
    "    def pop(self):\n",
    "        # return xx\n",
    "        if self.stack2==[]:\n",
    "            while self.stack1:\n",
    "                self.stack2.append(self.stack1.pop())\n",
    "            return self.stack2.pop()\n",
    "        return self.stack2.pop()"
   ]
  },
  {
   "cell_type": "markdown",
   "metadata": {},
   "source": [
    "队列A和队列B，A负责进数，B负责出数；B没空的时候就依次出，B空了就从A倒一波过来；始终保持有序；"
   ]
  },
  {
   "cell_type": "code",
   "execution_count": null,
   "metadata": {},
   "outputs": [],
   "source": []
  }
 ],
 "metadata": {
  "kernelspec": {
   "display_name": "Python 2",
   "language": "python",
   "name": "python2"
  },
  "language_info": {
   "codemirror_mode": {
    "name": "ipython",
    "version": 2
   },
   "file_extension": ".py",
   "mimetype": "text/x-python",
   "name": "python",
   "nbconvert_exporter": "python",
   "pygments_lexer": "ipython2",
   "version": "2.7.14"
  }
 },
 "nbformat": 4,
 "nbformat_minor": 2
}
