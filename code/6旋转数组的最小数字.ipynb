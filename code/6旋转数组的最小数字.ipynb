{
 "cells": [
  {
   "cell_type": "markdown",
   "metadata": {},
   "source": [
    "把一个数组最开始的若干个元素搬到数组的末尾，我们称之为数组的旋转。 输入一个非减排序的数组的一个旋转，输出旋转数组的最小元素。 例如数组{3,4,5,1,2}为{1,2,3,4,5}的一个旋转，该数组的最小值为1。 NOTE：给出的所有元素都大于0，若数组大小为0，请返回0。"
   ]
  },
  {
   "cell_type": "markdown",
   "metadata": {},
   "source": [
    "暴力循环法"
   ]
  },
  {
   "cell_type": "code",
   "execution_count": 1,
   "metadata": {},
   "outputs": [],
   "source": [
    "class Solution:\n",
    "    def minNumberInRotateArray(self, rotateArray):\n",
    "        # write code here\n",
    "        if len(rotateArray)==0:return 0\n",
    "        return min(rotateArray)"
   ]
  },
  {
   "cell_type": "markdown",
   "metadata": {},
   "source": [
    "优化终止法"
   ]
  },
  {
   "cell_type": "code",
   "execution_count": 2,
   "metadata": {},
   "outputs": [],
   "source": [
    "class Solution:\n",
    "    def minNumberInRotateArray(self, rotateArray):\n",
    "        # write code here\n",
    "        if len(rotateArray) == 0:\n",
    "            return 0\n",
    " \n",
    "        ret = rotateArray[0]\n",
    "        if len(rotateArray) == 1:\n",
    "            return ret\n",
    " \n",
    "        for i in range(1,len(rotateArray)):\n",
    "            now = rotateArray[i]\n",
    "            if now < ret:\n",
    "                ret = now\n",
    "                break\n",
    " \n",
    " \n",
    "        return ret"
   ]
  },
  {
   "cell_type": "markdown",
   "metadata": {},
   "source": [
    "二分法"
   ]
  },
  {
   "cell_type": "code",
   "execution_count": 3,
   "metadata": {},
   "outputs": [],
   "source": [
    "class Solution:\n",
    "    def minNumberInRotateArray(self, rotateArray):\n",
    "        length = len(rotateArray)\n",
    "        if length == 0:\n",
    "            return 0\n",
    "        if length == 1:\n",
    "            return rotateArray[0]\n",
    "        left, right = 0, length- 1\n",
    "         \n",
    "        while left<= right:\n",
    "            mid = (left+ right) >> 1\n",
    "            if rotateArray[mid] > rotateArray[right]:\n",
    "                left = mid+ 1\n",
    "            elif rotateArray[mid] < rotateArray[right]:\n",
    "                right = mid\n",
    "            else:\n",
    "                right -= 1\n",
    "            if left >= right:\n",
    "                break\n",
    "        return rotateArray[left]"
   ]
  },
  {
   "cell_type": "markdown",
   "metadata": {},
   "source": [
    "尴尬的是，Python里面貌似运行效率是一样的"
   ]
  }
 ],
 "metadata": {
  "kernelspec": {
   "display_name": "Python 2",
   "language": "python",
   "name": "python2"
  },
  "language_info": {
   "codemirror_mode": {
    "name": "ipython",
    "version": 2
   },
   "file_extension": ".py",
   "mimetype": "text/x-python",
   "name": "python",
   "nbconvert_exporter": "python",
   "pygments_lexer": "ipython2",
   "version": "2.7.14"
  }
 },
 "nbformat": 4,
 "nbformat_minor": 2
}
